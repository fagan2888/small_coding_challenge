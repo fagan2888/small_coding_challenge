{
 "cells": [
  {
   "cell_type": "markdown",
   "metadata": {},
   "source": [
    "# Q1\n",
    "1) In the attached file (w_data.dat), you’ll find daily weather data.   Download this text file, then write a program to output the day number (column one) with the smallest temperature spread (the maximum temperature is the second column, the minimum the third column)."
   ]
  },
  {
   "cell_type": "markdown",
   "metadata": {},
   "source": [
    "We would start by inspecting the data by glancing the first few lines and last few lines. Here we can notice a few issues we need to handle: \n",
    "1. The  \"*\" next number \"97*\".\n",
    "2. the last line is the summary of the month, we don't need to process this line."
   ]
  },
  {
   "cell_type": "code",
   "execution_count": 33,
   "metadata": {},
   "outputs": [
    {
     "name": "stdout",
     "output_type": "stream",
     "text": [
      "\r\n",
      "<pre>\r\n",
      " MMU June 2002\r\n",
      "\r\n",
      "  Dy MxT   MnT   AvT   HDDay  AvDP 1HrP TPcpn WxType PDir AvSp Dir MxS SkyC MxR MnR AvSLP\r\n",
      "\r\n",
      "   1  88    59    74          53.8       0.00 F       280  9.6 270  17  1.6  93 23 1004.5\r\n",
      "   2  79    63    71          46.5       0.00         330  8.7 340  23  3.3  70 28 1004.5\r\n",
      "   3  77    55    66          39.6       0.00         350  5.0 350   9  2.8  59 24 1016.8\r\n",
      "   4  77    59    68          51.1       0.00         110  9.1 130  12  8.6  62 40 1021.1\r\n"
     ]
    }
   ],
   "source": [
    "! head w_data\\ \\(5\\).dat"
   ]
  },
  {
   "cell_type": "code",
   "execution_count": 34,
   "metadata": {},
   "outputs": [
    {
     "name": "stdout",
     "output_type": "stream",
     "text": [
      "  23  90    68    79          63.1       0.00 H       240  8.3 230  12  0.2  68 42 1021.3\r\n",
      "  24  90    77    84          67.5       0.00 H       350  8.5 010  14  6.9  74 48 1018.2\r\n",
      "  25  90    72    81          61.3       0.00         190  4.9 230   9  5.6  81 29 1019.6\r\n",
      "  26  97*   64    81          70.4       0.00 H       050  5.1 200  12  4.0 107 45 1014.9\r\n",
      "  27  91    72    82          69.7       0.00 RTH     250 12.1 230  17  7.1  90 47 1009.0\r\n",
      "  28  84    68    76          65.6       0.00 RTFH    280  7.6 340  16  7.0 100 51 1011.0\r\n",
      "  29  88    66    77          59.7       0.00         040  5.4 020   9  5.3  84 33 1020.6\r\n",
      "  30  90    45    68          63.6       0.00 H       240  6.0 220  17  4.8 200 41 1022.7\r\n",
      "  mo  82.9  60.5  71.7    16  58.8       0.00              6.9          5.3\r\n",
      "</pre>\r\n"
     ]
    }
   ],
   "source": [
    "! tail w_data\\ \\(5\\).dat"
   ]
  },
  {
   "cell_type": "code",
   "execution_count": 79,
   "metadata": {},
   "outputs": [
    {
     "name": "stdout",
     "output_type": "stream",
     "text": [
      "The smallest temperature spread in this month's date on day: 14 which is: 2\n"
     ]
    }
   ],
   "source": [
    "with open('w_data (5).dat', 'r') as file:   \n",
    "        for _ in range(6):\n",
    "            next(file)\n",
    "        min_spread = 100000000\n",
    "        for line in file:\n",
    "            line = line.split()\n",
    "            if len(line) > 3 and line[0] != 'mo':\n",
    "                day_number, max_temp, min_temp = line[0], line[1].strip(\"*\"), line[2].strip(\"*\")\n",
    "                spread = int(max_temp) - int(min_temp)\n",
    "                if spread < min_spread:\n",
    "                    min_spread = spread\n",
    "                    min_spread_day = day_number\n",
    "\n",
    "print(\"The smallest temperature spread in this month's date on day:\", min_spread_day, \"which is:\", min_spread)\n"
   ]
  },
  {
   "cell_type": "markdown",
   "metadata": {},
   "source": [
    "# Q2\n",
    "2) The attached soccer.dat file contains the results from the English Premier League.  The columns labeled ‘F’ and ‘A’ contain the total number of goals scored for and against each team in that season (so Arsenal scored 79 goals against opponents, and had 36 goals scored against them). Write a program to print the name of the team with the smallest difference in ‘for’ and ‘against’ goals."
   ]
  },
  {
   "cell_type": "code",
   "execution_count": 70,
   "metadata": {},
   "outputs": [
    {
     "name": "stdout",
     "output_type": "stream",
     "text": [
      "\r\n",
      "<pre>\r\n",
      "       Team            P     W    L   D    F      A     Pts\r\n",
      "    1. Arsenal         38    26   9   3    79  -  36    87\r\n",
      "    2. Liverpool       38    24   8   6    67  -  30    80\r\n",
      "    3. Manchester_U    38    24   5   9    87  -  45    77\r\n",
      "    4. Newcastle       38    21   8   9    74  -  52    71\r\n",
      "    5. Leeds           38    18  12   8    53  -  37    66\r\n",
      "    6. Chelsea         38    17  13   8    66  -  38    64\r\n",
      "    7. West_Ham        38    15   8  15    48  -  57    53\r\n"
     ]
    }
   ],
   "source": [
    "! head soccer.dat"
   ]
  },
  {
   "cell_type": "code",
   "execution_count": 71,
   "metadata": {},
   "outputs": [
    {
     "name": "stdout",
     "output_type": "stream",
     "text": [
      "   13. Fulham          38    10  14  14    36  -  44    44\r\n",
      "   14. Charlton        38    10  14  14    38  -  49    44\r\n",
      "   15. Everton         38    11  10  17    45  -  57    43\r\n",
      "   16. Bolton          38     9  13  16    44  -  62    40\r\n",
      "   17. Sunderland      38    10  10  18    29  -  51    40\r\n",
      "   -------------------------------------------------------\r\n",
      "   18. Ipswich         38     9   9  20    41  -  64    36\r\n",
      "   19. Derby           38     8   6  24    33  -  63    30\r\n",
      "   20. Leicester       38     5  13  20    30  -  64    28\r\n",
      "</pre>\r\n"
     ]
    }
   ],
   "source": [
    "! tail soccer.dat"
   ]
  },
  {
   "cell_type": "code",
   "execution_count": 96,
   "metadata": {},
   "outputs": [
    {
     "name": "stdout",
     "output_type": "stream",
     "text": [
      "The team with the smallest difference in ‘for’ and ‘against’ goals is: Aston_Villa , with score difference of 1\n"
     ]
    }
   ],
   "source": [
    "with open('soccer.dat', 'r') as file:\n",
    "    for _ in range(3):\n",
    "        next(file)\n",
    "    min_difference = 1000000\n",
    "    for line in file:\n",
    "        line = line.split()\n",
    "        if len(line) > 5:\n",
    "            team_name, for_score, against_score = line[1], line[6], line[8]\n",
    "            score_difference = abs(int(for_score) - int(against_score))\n",
    "            if score_difference < min_difference:\n",
    "                min_difference = score_difference\n",
    "                min_team = team_name\n",
    "print(\"The team with the smallest difference in ‘for’ and ‘against’ goals is:\", min_team, \", with score difference of\", min_difference)                "
   ]
  }
 ],
 "metadata": {
  "kernelspec": {
   "display_name": "Python 3",
   "language": "python",
   "name": "python3"
  },
  "language_info": {
   "codemirror_mode": {
    "name": "ipython",
    "version": 3
   },
   "file_extension": ".py",
   "mimetype": "text/x-python",
   "name": "python",
   "nbconvert_exporter": "python",
   "pygments_lexer": "ipython3",
   "version": "3.7.4"
  },
  "toc": {
   "base_numbering": 1,
   "nav_menu": {},
   "number_sections": true,
   "sideBar": true,
   "skip_h1_title": false,
   "title_cell": "Table of Contents",
   "title_sidebar": "Contents",
   "toc_cell": false,
   "toc_position": {
    "height": "calc(100% - 180px)",
    "left": "10px",
    "top": "150px",
    "width": "165px"
   },
   "toc_section_display": true,
   "toc_window_display": true
  }
 },
 "nbformat": 4,
 "nbformat_minor": 2
}
